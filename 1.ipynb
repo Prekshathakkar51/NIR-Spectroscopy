{
 "cells": [
  {
   "cell_type": "code",
   "execution_count": 71,
   "metadata": {},
   "outputs": [],
   "source": [
    "import pandas as pd\n",
    "import numpy as np\n",
    "import matplotlib.pyplot as plt"
   ]
  },
  {
   "cell_type": "code",
   "execution_count": 72,
   "metadata": {},
   "outputs": [],
   "source": [
    "dataset = pd.read_csv(r'C:\\Users\\acer\\Desktop\\kmilt\\MicroNIR_2013_Tara.csv')"
   ]
  },
  {
   "cell_type": "code",
   "execution_count": 73,
   "metadata": {},
   "outputs": [
    {
     "data": {
      "text/html": [
       "<div>\n",
       "<style scoped>\n",
       "    .dataframe tbody tr th:only-of-type {\n",
       "        vertical-align: middle;\n",
       "    }\n",
       "\n",
       "    .dataframe tbody tr th {\n",
       "        vertical-align: top;\n",
       "    }\n",
       "\n",
       "    .dataframe thead th {\n",
       "        text-align: right;\n",
       "    }\n",
       "</style>\n",
       "<table border=\"1\" class=\"dataframe\">\n",
       "  <thead>\n",
       "    <tr style=\"text-align: right;\">\n",
       "      <th></th>\n",
       "      <th>Sample</th>\n",
       "      <th>Rupture force</th>\n",
       "      <th>Distance at rup</th>\n",
       "      <th>Average firmnes</th>\n",
       "      <th>Toughness</th>\n",
       "      <th>Penetrating for</th>\n",
       "      <th>Penetrating ene</th>\n",
       "      <th>L</th>\n",
       "      <th>a</th>\n",
       "      <th>b</th>\n",
       "      <th>...</th>\n",
       "      <th>2015.7</th>\n",
       "      <th>2023.09</th>\n",
       "      <th>2030.47</th>\n",
       "      <th>2037.86</th>\n",
       "      <th>2045.25</th>\n",
       "      <th>2052.63</th>\n",
       "      <th>2060.02</th>\n",
       "      <th>2067.4</th>\n",
       "      <th>2074.79</th>\n",
       "      <th>2082.18</th>\n",
       "    </tr>\n",
       "  </thead>\n",
       "  <tbody>\n",
       "    <tr>\n",
       "      <th>0</th>\n",
       "      <td>1.1</td>\n",
       "      <td>30.073</td>\n",
       "      <td>3.596</td>\n",
       "      <td>8.393</td>\n",
       "      <td>52.882</td>\n",
       "      <td>17.755</td>\n",
       "      <td>266.302</td>\n",
       "      <td>27.93</td>\n",
       "      <td>-7.70</td>\n",
       "      <td>13.25</td>\n",
       "      <td>...</td>\n",
       "      <td>4.929325</td>\n",
       "      <td>5.693093</td>\n",
       "      <td>7.165021</td>\n",
       "      <td>6.811336</td>\n",
       "      <td>7.581791</td>\n",
       "      <td>7.527890</td>\n",
       "      <td>9.619776</td>\n",
       "      <td>9.261277</td>\n",
       "      <td>9.697878</td>\n",
       "      <td>-2.752294</td>\n",
       "    </tr>\n",
       "    <tr>\n",
       "      <th>1</th>\n",
       "      <td>1.2</td>\n",
       "      <td>27.357</td>\n",
       "      <td>3.520</td>\n",
       "      <td>7.892</td>\n",
       "      <td>49.930</td>\n",
       "      <td>19.336</td>\n",
       "      <td>290.025</td>\n",
       "      <td>34.27</td>\n",
       "      <td>-10.14</td>\n",
       "      <td>20.30</td>\n",
       "      <td>...</td>\n",
       "      <td>3.464065</td>\n",
       "      <td>6.617860</td>\n",
       "      <td>21.303240</td>\n",
       "      <td>11.945510</td>\n",
       "      <td>16.701800</td>\n",
       "      <td>6.965407</td>\n",
       "      <td>35.639830</td>\n",
       "      <td>26.225760</td>\n",
       "      <td>30.292900</td>\n",
       "      <td>4.587156</td>\n",
       "    </tr>\n",
       "    <tr>\n",
       "      <th>2</th>\n",
       "      <td>2.1</td>\n",
       "      <td>30.534</td>\n",
       "      <td>4.243</td>\n",
       "      <td>7.287</td>\n",
       "      <td>61.572</td>\n",
       "      <td>16.461</td>\n",
       "      <td>246.897</td>\n",
       "      <td>37.74</td>\n",
       "      <td>-10.76</td>\n",
       "      <td>24.83</td>\n",
       "      <td>...</td>\n",
       "      <td>5.284379</td>\n",
       "      <td>5.994193</td>\n",
       "      <td>7.476431</td>\n",
       "      <td>7.178053</td>\n",
       "      <td>7.931429</td>\n",
       "      <td>7.951940</td>\n",
       "      <td>10.335790</td>\n",
       "      <td>9.928396</td>\n",
       "      <td>10.647940</td>\n",
       "      <td>0.900901</td>\n",
       "    </tr>\n",
       "    <tr>\n",
       "      <th>3</th>\n",
       "      <td>2.2</td>\n",
       "      <td>31.099</td>\n",
       "      <td>3.284</td>\n",
       "      <td>9.552</td>\n",
       "      <td>51.260</td>\n",
       "      <td>17.244</td>\n",
       "      <td>258.649</td>\n",
       "      <td>34.51</td>\n",
       "      <td>-9.18</td>\n",
       "      <td>16.21</td>\n",
       "      <td>...</td>\n",
       "      <td>2.438646</td>\n",
       "      <td>4.331741</td>\n",
       "      <td>14.371850</td>\n",
       "      <td>8.003729</td>\n",
       "      <td>11.481900</td>\n",
       "      <td>5.227919</td>\n",
       "      <td>24.893250</td>\n",
       "      <td>18.670510</td>\n",
       "      <td>21.941550</td>\n",
       "      <td>6.306306</td>\n",
       "    </tr>\n",
       "    <tr>\n",
       "      <th>4</th>\n",
       "      <td>3.1</td>\n",
       "      <td>32.656</td>\n",
       "      <td>3.413</td>\n",
       "      <td>9.625</td>\n",
       "      <td>60.907</td>\n",
       "      <td>17.322</td>\n",
       "      <td>259.822</td>\n",
       "      <td>30.58</td>\n",
       "      <td>-7.76</td>\n",
       "      <td>12.83</td>\n",
       "      <td>...</td>\n",
       "      <td>4.670510</td>\n",
       "      <td>5.504158</td>\n",
       "      <td>7.811903</td>\n",
       "      <td>6.864243</td>\n",
       "      <td>7.869948</td>\n",
       "      <td>7.121170</td>\n",
       "      <td>11.215590</td>\n",
       "      <td>10.256960</td>\n",
       "      <td>11.302570</td>\n",
       "      <td>2.752294</td>\n",
       "    </tr>\n",
       "  </tbody>\n",
       "</table>\n",
       "<p>5 rows × 138 columns</p>\n",
       "</div>"
      ],
      "text/plain": [
       "   Sample   Rupture force  Distance at rup  Average firmnes  Toughness  \\\n",
       "0      1.1         30.073            3.596            8.393     52.882   \n",
       "1      1.2         27.357            3.520            7.892     49.930   \n",
       "2      2.1         30.534            4.243            7.287     61.572   \n",
       "3      2.2         31.099            3.284            9.552     51.260   \n",
       "4      3.1         32.656            3.413            9.625     60.907   \n",
       "\n",
       "   Penetrating for  Penetrating ene      L      a      b  ...    2015.7  \\\n",
       "0           17.755          266.302  27.93  -7.70  13.25  ...  4.929325   \n",
       "1           19.336          290.025  34.27 -10.14  20.30  ...  3.464065   \n",
       "2           16.461          246.897  37.74 -10.76  24.83  ...  5.284379   \n",
       "3           17.244          258.649  34.51  -9.18  16.21  ...  2.438646   \n",
       "4           17.322          259.822  30.58  -7.76  12.83  ...  4.670510   \n",
       "\n",
       "    2023.09    2030.47    2037.86    2045.25   2052.63    2060.02     2067.4  \\\n",
       "0  5.693093   7.165021   6.811336   7.581791  7.527890   9.619776   9.261277   \n",
       "1  6.617860  21.303240  11.945510  16.701800  6.965407  35.639830  26.225760   \n",
       "2  5.994193   7.476431   7.178053   7.931429  7.951940  10.335790   9.928396   \n",
       "3  4.331741  14.371850   8.003729  11.481900  5.227919  24.893250  18.670510   \n",
       "4  5.504158   7.811903   6.864243   7.869948  7.121170  11.215590  10.256960   \n",
       "\n",
       "     2074.79   2082.18  \n",
       "0   9.697878 -2.752294  \n",
       "1  30.292900  4.587156  \n",
       "2  10.647940  0.900901  \n",
       "3  21.941550  6.306306  \n",
       "4  11.302570  2.752294  \n",
       "\n",
       "[5 rows x 138 columns]"
      ]
     },
     "execution_count": 73,
     "metadata": {},
     "output_type": "execute_result"
    }
   ],
   "source": [
    "dataset.head()"
   ]
  },
  {
   "cell_type": "code",
   "execution_count": 74,
   "metadata": {},
   "outputs": [],
   "source": [
    "# input\n",
    "x = dataset.iloc[:, [2, 3]].values\n",
    " \n",
    "# output\n",
    "y = dataset.iloc[:, 4].values"
   ]
  },
  {
   "cell_type": "code",
   "execution_count": 75,
   "metadata": {},
   "outputs": [],
   "source": [
    "from sklearn.model_selection import train_test_split\n",
    "xtrain, xtest, ytrain, ytest = train_test_split(\n",
    "\t\tx, y, test_size = 0.25, random_state = 0)\n"
   ]
  },
  {
   "cell_type": "code",
   "execution_count": 76,
   "metadata": {},
   "outputs": [
    {
     "name": "stdout",
     "output_type": "stream",
     "text": [
      "[[-0.88727857 -0.45871615]\n",
      " [-1.71706799 -2.95031981]\n",
      " [ 0.6726731  -0.90076668]\n",
      " [-0.32490944  1.34294396]\n",
      " [ 0.02902918 -0.97680749]\n",
      " [ 0.22435086 -0.89214873]\n",
      " [ 0.44851198 -0.29497495]\n",
      " [-0.99214927  1.04841258]\n",
      " [-0.52678554  0.70572202]\n",
      " [ 0.1155475  -0.52056267]]\n"
     ]
    }
   ],
   "source": [
    "from sklearn.preprocessing import StandardScaler\n",
    "try:\n",
    " sc_x = StandardScaler()\n",
    " xtrain = sc_x.fit_transform(xtrain)\n",
    " xtest = sc_x.transform(xtest)\n",
    " print (xtrain[0:10, :])\n",
    "except:\n",
    "    print(\"invalid\")\n",
    "\n"
   ]
  },
  {
   "cell_type": "code",
   "execution_count": 77,
   "metadata": {},
   "outputs": [
    {
     "name": "stdout",
     "output_type": "stream",
     "text": [
      "[  8   1 109 134  28  37  99  34  68  85  75  40 140 112  72  58 117  16\n",
      "  79  13  14 118 129 151  33  83  69 103  71 121  21  43  84  57  50  45\n",
      "  97 137 144   6  30 116 127 130  88   2  26 141  74  82 128  17  41  31\n",
      "  63  96  90 107 135 104  36  46 122  23 110 145  48  32 108 136   5 119\n",
      " 114  80  60  55  77  39   4  19 115 106  93 138  56  10  95 113   9  70\n",
      "  67  42 120 102 146  73 101 124  78 123  54  25 133  52 131  61  49 143\n",
      "  66 150 147  86  92   7 132  35  65  18  22  15 126  64  87  89  91 142\n",
      "  24   0  62 148  94  38 111  12  11  47  76 149  27 105  59  81  44 100\n",
      " 139  98   3  53 125  29  51  20]\n",
      "continuous\n",
      "multiclass\n",
      "multiclass\n"
     ]
    }
   ],
   "source": [
    "lab_enc = preprocessing.LabelEncoder()\n",
    "training_scores_encoded = lab_enc.fit_transform(ytrain)\n",
    "print(training_scores_encoded)\n",
    "print(utils.multiclass.type_of_target(ytrain))\n",
    "print(utils.multiclass.type_of_target(ytrain.astype('int')))\n",
    "print(utils.multiclass.type_of_target(training_scores_encoded))"
   ]
  },
  {
   "cell_type": "code",
   "execution_count": 80,
   "metadata": {},
   "outputs": [
    {
     "ename": "ValueError",
     "evalue": "Unknown label type: 'continuous'",
     "output_type": "error",
     "traceback": [
      "\u001b[1;31m---------------------------------------------------------------------------\u001b[0m",
      "\u001b[1;31mValueError\u001b[0m                                Traceback (most recent call last)",
      "\u001b[1;32m~\\AppData\\Local\\Temp/ipykernel_11660/839719386.py\u001b[0m in \u001b[0;36m<module>\u001b[1;34m\u001b[0m\n\u001b[0;32m      1\u001b[0m \u001b[1;32mfrom\u001b[0m \u001b[0msklearn\u001b[0m\u001b[1;33m.\u001b[0m\u001b[0mlinear_model\u001b[0m \u001b[1;32mimport\u001b[0m \u001b[0mLogisticRegression\u001b[0m\u001b[1;33m\u001b[0m\u001b[1;33m\u001b[0m\u001b[0m\n\u001b[0;32m      2\u001b[0m \u001b[0mclassifier\u001b[0m \u001b[1;33m=\u001b[0m \u001b[0mLogisticRegression\u001b[0m\u001b[1;33m(\u001b[0m\u001b[0mrandom_state\u001b[0m \u001b[1;33m=\u001b[0m \u001b[1;36m0\u001b[0m\u001b[1;33m)\u001b[0m\u001b[1;33m\u001b[0m\u001b[1;33m\u001b[0m\u001b[0m\n\u001b[1;32m----> 3\u001b[1;33m \u001b[0mclassifier\u001b[0m\u001b[1;33m.\u001b[0m\u001b[0mfit\u001b[0m\u001b[1;33m(\u001b[0m\u001b[0mxtrain\u001b[0m\u001b[1;33m,\u001b[0m \u001b[0mytrain\u001b[0m\u001b[1;33m)\u001b[0m\u001b[1;33m\u001b[0m\u001b[1;33m\u001b[0m\u001b[0m\n\u001b[0m",
      "\u001b[1;32m~\\AppData\\Local\\Programs\\Python\\Python39\\lib\\site-packages\\sklearn\\linear_model\\_logistic.py\u001b[0m in \u001b[0;36mfit\u001b[1;34m(self, X, y, sample_weight)\u001b[0m\n\u001b[0;32m   1514\u001b[0m             \u001b[0maccept_large_sparse\u001b[0m\u001b[1;33m=\u001b[0m\u001b[0msolver\u001b[0m \u001b[1;32mnot\u001b[0m \u001b[1;32min\u001b[0m \u001b[1;33m[\u001b[0m\u001b[1;34m\"liblinear\"\u001b[0m\u001b[1;33m,\u001b[0m \u001b[1;34m\"sag\"\u001b[0m\u001b[1;33m,\u001b[0m \u001b[1;34m\"saga\"\u001b[0m\u001b[1;33m]\u001b[0m\u001b[1;33m,\u001b[0m\u001b[1;33m\u001b[0m\u001b[1;33m\u001b[0m\u001b[0m\n\u001b[0;32m   1515\u001b[0m         )\n\u001b[1;32m-> 1516\u001b[1;33m         \u001b[0mcheck_classification_targets\u001b[0m\u001b[1;33m(\u001b[0m\u001b[0my\u001b[0m\u001b[1;33m)\u001b[0m\u001b[1;33m\u001b[0m\u001b[1;33m\u001b[0m\u001b[0m\n\u001b[0m\u001b[0;32m   1517\u001b[0m         \u001b[0mself\u001b[0m\u001b[1;33m.\u001b[0m\u001b[0mclasses_\u001b[0m \u001b[1;33m=\u001b[0m \u001b[0mnp\u001b[0m\u001b[1;33m.\u001b[0m\u001b[0munique\u001b[0m\u001b[1;33m(\u001b[0m\u001b[0my\u001b[0m\u001b[1;33m)\u001b[0m\u001b[1;33m\u001b[0m\u001b[1;33m\u001b[0m\u001b[0m\n\u001b[0;32m   1518\u001b[0m \u001b[1;33m\u001b[0m\u001b[0m\n",
      "\u001b[1;32m~\\AppData\\Local\\Programs\\Python\\Python39\\lib\\site-packages\\sklearn\\utils\\multiclass.py\u001b[0m in \u001b[0;36mcheck_classification_targets\u001b[1;34m(y)\u001b[0m\n\u001b[0;32m    196\u001b[0m         \u001b[1;34m\"multilabel-sequences\"\u001b[0m\u001b[1;33m,\u001b[0m\u001b[1;33m\u001b[0m\u001b[1;33m\u001b[0m\u001b[0m\n\u001b[0;32m    197\u001b[0m     ]:\n\u001b[1;32m--> 198\u001b[1;33m         \u001b[1;32mraise\u001b[0m \u001b[0mValueError\u001b[0m\u001b[1;33m(\u001b[0m\u001b[1;34m\"Unknown label type: %r\"\u001b[0m \u001b[1;33m%\u001b[0m \u001b[0my_type\u001b[0m\u001b[1;33m)\u001b[0m\u001b[1;33m\u001b[0m\u001b[1;33m\u001b[0m\u001b[0m\n\u001b[0m\u001b[0;32m    199\u001b[0m \u001b[1;33m\u001b[0m\u001b[0m\n\u001b[0;32m    200\u001b[0m \u001b[1;33m\u001b[0m\u001b[0m\n",
      "\u001b[1;31mValueError\u001b[0m: Unknown label type: 'continuous'"
     ]
    }
   ],
   "source": [
    "from sklearn.linear_model import LogisticRegression\n",
    "classifier = LogisticRegression(random_state = 0)\n",
    "classifier.fit(xtrain, ytrain)\n"
   ]
  },
  {
   "cell_type": "code",
   "execution_count": 81,
   "metadata": {},
   "outputs": [
    {
     "ename": "AttributeError",
     "evalue": "'LogisticRegression' object has no attribute 'coef_'",
     "output_type": "error",
     "traceback": [
      "\u001b[1;31m---------------------------------------------------------------------------\u001b[0m",
      "\u001b[1;31mAttributeError\u001b[0m                            Traceback (most recent call last)",
      "\u001b[1;32m~\\AppData\\Local\\Temp/ipykernel_11660/2022389336.py\u001b[0m in \u001b[0;36m<module>\u001b[1;34m\u001b[0m\n\u001b[1;32m----> 1\u001b[1;33m \u001b[0my_pred\u001b[0m \u001b[1;33m=\u001b[0m \u001b[0mclassifier\u001b[0m\u001b[1;33m.\u001b[0m\u001b[0mpredict\u001b[0m\u001b[1;33m(\u001b[0m\u001b[0mxtest\u001b[0m\u001b[1;33m)\u001b[0m\u001b[1;33m\u001b[0m\u001b[1;33m\u001b[0m\u001b[0m\n\u001b[0m",
      "\u001b[1;32m~\\AppData\\Local\\Programs\\Python\\Python39\\lib\\site-packages\\sklearn\\linear_model\\_base.py\u001b[0m in \u001b[0;36mpredict\u001b[1;34m(self, X)\u001b[0m\n\u001b[0;32m    423\u001b[0m             \u001b[0mPredicted\u001b[0m \u001b[1;32mclass\u001b[0m \u001b[0mlabel\u001b[0m \u001b[0mper\u001b[0m \u001b[0msample\u001b[0m\u001b[1;33m.\u001b[0m\u001b[1;33m\u001b[0m\u001b[1;33m\u001b[0m\u001b[0m\n\u001b[0;32m    424\u001b[0m         \"\"\"\n\u001b[1;32m--> 425\u001b[1;33m         \u001b[0mscores\u001b[0m \u001b[1;33m=\u001b[0m \u001b[0mself\u001b[0m\u001b[1;33m.\u001b[0m\u001b[0mdecision_function\u001b[0m\u001b[1;33m(\u001b[0m\u001b[0mX\u001b[0m\u001b[1;33m)\u001b[0m\u001b[1;33m\u001b[0m\u001b[1;33m\u001b[0m\u001b[0m\n\u001b[0m\u001b[0;32m    426\u001b[0m         \u001b[1;32mif\u001b[0m \u001b[0mlen\u001b[0m\u001b[1;33m(\u001b[0m\u001b[0mscores\u001b[0m\u001b[1;33m.\u001b[0m\u001b[0mshape\u001b[0m\u001b[1;33m)\u001b[0m \u001b[1;33m==\u001b[0m \u001b[1;36m1\u001b[0m\u001b[1;33m:\u001b[0m\u001b[1;33m\u001b[0m\u001b[1;33m\u001b[0m\u001b[0m\n\u001b[0;32m    427\u001b[0m             \u001b[0mindices\u001b[0m \u001b[1;33m=\u001b[0m \u001b[1;33m(\u001b[0m\u001b[0mscores\u001b[0m \u001b[1;33m>\u001b[0m \u001b[1;36m0\u001b[0m\u001b[1;33m)\u001b[0m\u001b[1;33m.\u001b[0m\u001b[0mastype\u001b[0m\u001b[1;33m(\u001b[0m\u001b[0mint\u001b[0m\u001b[1;33m)\u001b[0m\u001b[1;33m\u001b[0m\u001b[1;33m\u001b[0m\u001b[0m\n",
      "\u001b[1;32m~\\AppData\\Local\\Programs\\Python\\Python39\\lib\\site-packages\\sklearn\\linear_model\\_base.py\u001b[0m in \u001b[0;36mdecision_function\u001b[1;34m(self, X)\u001b[0m\n\u001b[0;32m    406\u001b[0m \u001b[1;33m\u001b[0m\u001b[0m\n\u001b[0;32m    407\u001b[0m         \u001b[0mX\u001b[0m \u001b[1;33m=\u001b[0m \u001b[0mself\u001b[0m\u001b[1;33m.\u001b[0m\u001b[0m_validate_data\u001b[0m\u001b[1;33m(\u001b[0m\u001b[0mX\u001b[0m\u001b[1;33m,\u001b[0m \u001b[0maccept_sparse\u001b[0m\u001b[1;33m=\u001b[0m\u001b[1;34m\"csr\"\u001b[0m\u001b[1;33m,\u001b[0m \u001b[0mreset\u001b[0m\u001b[1;33m=\u001b[0m\u001b[1;32mFalse\u001b[0m\u001b[1;33m)\u001b[0m\u001b[1;33m\u001b[0m\u001b[1;33m\u001b[0m\u001b[0m\n\u001b[1;32m--> 408\u001b[1;33m         \u001b[0mscores\u001b[0m \u001b[1;33m=\u001b[0m \u001b[0msafe_sparse_dot\u001b[0m\u001b[1;33m(\u001b[0m\u001b[0mX\u001b[0m\u001b[1;33m,\u001b[0m \u001b[0mself\u001b[0m\u001b[1;33m.\u001b[0m\u001b[0mcoef_\u001b[0m\u001b[1;33m.\u001b[0m\u001b[0mT\u001b[0m\u001b[1;33m,\u001b[0m \u001b[0mdense_output\u001b[0m\u001b[1;33m=\u001b[0m\u001b[1;32mTrue\u001b[0m\u001b[1;33m)\u001b[0m \u001b[1;33m+\u001b[0m \u001b[0mself\u001b[0m\u001b[1;33m.\u001b[0m\u001b[0mintercept_\u001b[0m\u001b[1;33m\u001b[0m\u001b[1;33m\u001b[0m\u001b[0m\n\u001b[0m\u001b[0;32m    409\u001b[0m         \u001b[1;32mreturn\u001b[0m \u001b[0mscores\u001b[0m\u001b[1;33m.\u001b[0m\u001b[0mravel\u001b[0m\u001b[1;33m(\u001b[0m\u001b[1;33m)\u001b[0m \u001b[1;32mif\u001b[0m \u001b[0mscores\u001b[0m\u001b[1;33m.\u001b[0m\u001b[0mshape\u001b[0m\u001b[1;33m[\u001b[0m\u001b[1;36m1\u001b[0m\u001b[1;33m]\u001b[0m \u001b[1;33m==\u001b[0m \u001b[1;36m1\u001b[0m \u001b[1;32melse\u001b[0m \u001b[0mscores\u001b[0m\u001b[1;33m\u001b[0m\u001b[1;33m\u001b[0m\u001b[0m\n\u001b[0;32m    410\u001b[0m \u001b[1;33m\u001b[0m\u001b[0m\n",
      "\u001b[1;31mAttributeError\u001b[0m: 'LogisticRegression' object has no attribute 'coef_'"
     ]
    }
   ],
   "source": [
    "y_pred = classifier.predict(xtest)"
   ]
  }
 ],
 "metadata": {
  "interpreter": {
   "hash": "43435a050d4ac362dc4b1b4851a0333547cf4819a4e47175b9a0f2919a9b0b1b"
  },
  "kernelspec": {
   "display_name": "Python 3.9.7 64-bit",
   "language": "python",
   "name": "python3"
  },
  "language_info": {
   "codemirror_mode": {
    "name": "ipython",
    "version": 3
   },
   "file_extension": ".py",
   "mimetype": "text/x-python",
   "name": "python",
   "nbconvert_exporter": "python",
   "pygments_lexer": "ipython3",
   "version": "3.9.7"
  },
  "orig_nbformat": 4
 },
 "nbformat": 4,
 "nbformat_minor": 2
}
